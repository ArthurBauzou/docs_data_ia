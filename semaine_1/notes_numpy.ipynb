{
 "cells": [
  {
   "cell_type": "markdown",
   "metadata": {},
   "source": [
    "# FONCTIONS NUMPY"
   ]
  },
  {
   "cell_type": "code",
   "execution_count": 4,
   "metadata": {},
   "outputs": [],
   "source": [
    "import numpy as np\n",
    "import matplotlib.pyplot as plt"
   ]
  },
  {
   "cell_type": "markdown",
   "metadata": {},
   "source": [
    "### ARANGE\n",
    "crée un array numpy\n",
    "prend les mêmes paramètres que range() de pyrhon, mais accepte des *step* non entiers, comme .2\n"
   ]
  },
  {
   "cell_type": "code",
   "execution_count": 9,
   "metadata": {},
   "outputs": [
    {
     "data": {
      "text/plain": [
       "array([0. , 0.2, 0.4, 0.6, 0.8, 1. , 1.2, 1.4, 1.6, 1.8, 2. , 2.2, 2.4,\n",
       "       2.6, 2.8, 3. , 3.2, 3.4, 3.6, 3.8, 4. , 4.2, 4.4, 4.6, 4.8, 5. ,\n",
       "       5.2, 5.4, 5.6, 5.8, 6. , 6.2, 6.4, 6.6, 6.8, 7. , 7.2, 7.4, 7.6,\n",
       "       7.8])"
      ]
     },
     "execution_count": 9,
     "metadata": {},
     "output_type": "execute_result"
    }
   ],
   "source": [
    "liste = np.arange(0,8,.2)\n",
    "liste"
   ]
  },
  {
   "cell_type": "markdown",
   "metadata": {},
   "source": [
    "### RANDOM\n",
    "Une classe qui possède de nombreuses méthodes afin de générer des nombres aléatoires.\n",
    "\n",
    "#### random.randint :\n",
    "- Comme son nom l’indique, génère un entier aléatoire entre deux balises.\n",
    "- Les deux premiers paramètres sont les classiques *start* et *stop*.\n",
    "- La troisième paramètre permet de générer un tableau de résulats sous forme d’array numpy.\n",
    "- Si le prosième paramètre est un tuple, il précise les dimensions de cet array.\n"
   ]
  },
  {
   "cell_type": "code",
   "execution_count": 15,
   "metadata": {},
   "outputs": [
    {
     "data": {
      "text/plain": [
       "array([[9, 7, 6],\n",
       "       [1, 6, 3],\n",
       "       [4, 6, 2]])"
      ]
     },
     "execution_count": 15,
     "metadata": {},
     "output_type": "execute_result"
    }
   ],
   "source": [
    "ints = np.random.randint(1,11,(3,3))\n",
    "ints"
   ]
  },
  {
   "cell_type": "markdown",
   "metadata": {},
   "source": [
    "#### random.randn :\n",
    "- Cette fonction génère une série de nombres aléatoires selon une répartition gaussienne, en anglais « standard normal distribution ».\n",
    "- Prend en paramètre un tuple de dimensions : par exemple, (40,10) donnera 40 éléments composés chacun de 10 éléménts"
   ]
  },
  {
   "cell_type": "code",
   "execution_count": 18,
   "metadata": {},
   "outputs": [
    {
     "name": "stdout",
     "output_type": "stream",
     "text": [
      "–––\n",
      "maximum : 3.3033842243367335\n",
      "minimum : -2.494741305805717\n",
      "médiane : -0.007138787847978835\n",
      "moyenne : -0.0037135648595537397\n",
      "écart-type : 0.9454091583707992\n"
     ]
    }
   ],
   "source": [
    "signal = np.random.randn(40,10)\n",
    "\n",
    "fonctions = {\n",
    "    \"maximum\" : np.max, \n",
    "    \"minimum\" : np.min, \n",
    "    \"médiane\" : np.median, \n",
    "    \"moyenne\" : np.mean, \n",
    "    \"écart-type\" : np.std\n",
    "    }\n",
    "\n",
    "def launch_functions(arr):\n",
    "    print(\"–––\")\n",
    "    for name, function in fonctions.items() :\n",
    "        print(name, \":\", function(arr))\n",
    "\n",
    "launch_functions(signal)"
   ]
  },
  {
   "cell_type": "markdown",
   "metadata": {},
   "source": [
    "#### random.normal(moyenne, écart-type, dimensions) :"
   ]
  },
  {
   "cell_type": "code",
   "execution_count": 9,
   "metadata": {},
   "outputs": [
    {
     "data": {
      "image/png": "[encoded data removed]",
      "text/plain": [
       "<Figure size 640x480 with 1 Axes>"
      ]
     },
     "metadata": {},
     "output_type": "display_data"
    }
   ],
   "source": [
    "randnorm1 = np.random.normal(12,10,(100))\n",
    "randnorm2 = np.random.normal(-8,1,(100))\n",
    "\n",
    "plt.hist(randnorm1, color='orange')\n",
    "plt.hist(randnorm2)\n",
    "plt.show()"
   ]
  },
  {
   "cell_type": "markdown",
   "metadata": {},
   "source": [
    "#### LINSPACE\n",
    "- Crée un array entre les valeurs *start* et *stop*.\n",
    "- Le troisième paramètre définit le nombre d’éléménts à créer.\n",
    "- Le paramètre *stop* ne fonctionne pas comme d’habitude et inclus la valeur."
   ]
  },
  {
   "cell_type": "code",
   "execution_count": 23,
   "metadata": {},
   "outputs": [
    {
     "data": {
      "text/plain": [
       "array([1. , 1.5, 2. , 2.5, 3. , 3.5, 4. , 4.5, 5. , 5.5, 6. , 6.5, 7. ,\n",
       "       7.5, 8. ])"
      ]
     },
     "execution_count": 23,
     "metadata": {},
     "output_type": "execute_result"
    }
   ],
   "source": [
    "liste_espacee = np.linspace(1,8,15)\n",
    "\n",
    "liste_espacee"
   ]
  },
  {
   "cell_type": "code",
   "execution_count": 29,
   "metadata": {},
   "outputs": [
    {
     "data": {
      "text/plain": [
       "array([[1., 1., 1., 1., 1., 1., 1., 1., 1., 1.],\n",
       "       [1., 1., 1., 1., 1., 1., 1., 1., 1., 1.],\n",
       "       [1., 1., 1., 1., 1., 1., 1., 1., 1., 1.],\n",
       "       [1., 1., 1., 1., 1., 1., 1., 1., 1., 1.],\n",
       "       [1., 1., 1., 1., 1., 1., 1., 1., 1., 1.],\n",
       "       [1., 1., 1., 1., 1., 1., 1., 1., 1., 1.],\n",
       "       [1., 1., 1., 1., 1., 1., 1., 1., 1., 1.],\n",
       "       [1., 1., 1., 1., 1., 1., 1., 1., 1., 1.],\n",
       "       [1., 1., 1., 1., 1., 1., 1., 1., 1., 1.],\n",
       "       [1., 1., 1., 1., 1., 1., 1., 1., 1., 1.]])"
      ]
     },
     "execution_count": 29,
     "metadata": {},
     "output_type": "execute_result"
    }
   ],
   "source": [
    "x = np.ones((10,10))\n",
    "x"
   ]
  },
  {
   "cell_type": "code",
   "execution_count": 36,
   "metadata": {},
   "outputs": [
    {
     "name": "stdout",
     "output_type": "stream",
     "text": [
      "[False False False False False False  True  True  True  True]\n",
      "[ 0  1  2  3  4  5 10 10 10 10]\n",
      "[ 0  1  2  3  4  5 20 20 20 20]\n"
     ]
    }
   ],
   "source": [
    "x = np.asarray([f for f in range(10)])\n",
    "indice = x>5\n",
    "print(indice)\n",
    "x[indice] = 10 \n",
    "print(x)\n",
    "x[indice] = 20 \n",
    "print(x)\n"
   ]
  },
  {
   "cell_type": "markdown",
   "metadata": {},
   "source": [
    "solutions pour remplacer les elements d’une liste par 0 ou 1 en fonction d’une condition : "
   ]
  },
  {
   "cell_type": "code",
   "execution_count": 63,
   "metadata": {},
   "outputs": [
    {
     "data": {
      "text/plain": [
       "array([20, 20, 20, 20, 20, 20, 25, 25, 25, 25, 25])"
      ]
     },
     "execution_count": 63,
     "metadata": {},
     "output_type": "execute_result"
    }
   ],
   "source": [
    "li = np.array([f for f in range(11)])\n",
    "\n",
    "li = li > 5\n",
    "li = li + 4\n",
    "li = li * 5\n",
    "\n",
    "li"
   ]
  },
  {
   "cell_type": "code",
   "execution_count": 64,
   "metadata": {},
   "outputs": [
    {
     "data": {
      "text/plain": [
       "[1, 3, 5]"
      ]
     },
     "execution_count": 64,
     "metadata": {},
     "output_type": "execute_result"
    }
   ],
   "source": [
    "li = [0,1,0,1,0,1]\n",
    "\n",
    "res = []\n",
    "for i, x in enumerate(li) :\n",
    "    if x : res.append(i)\n",
    "\n",
    "res"
   ]
  }
 ],
 "metadata": {
  "kernelspec": {
   "display_name": "Python 3",
   "language": "python",
   "name": "python3"
  },
  "language_info": {
   "codemirror_mode": {
    "name": "ipython",
    "version": 3
   },
   "file_extension": ".py",
   "mimetype": "text/x-python",
   "name": "python",
   "nbconvert_exporter": "python",
   "pygments_lexer": "ipython3",
   "version": "3.11.4"
  },
  "orig_nbformat": 4
 },
 "nbformat": 4,
 "nbformat_minor": 2
}
