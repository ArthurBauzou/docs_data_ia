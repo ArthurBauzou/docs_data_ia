{
 "cells": [
  {
   "cell_type": "code",
   "execution_count": 9,
   "metadata": {},
   "outputs": [],
   "source": [
    "import numpy as np"
   ]
  },
  {
   "cell_type": "code",
   "execution_count": 10,
   "metadata": {},
   "outputs": [
    {
     "data": {
      "text/plain": [
       "array([[ 1,  2,  3,  4,  5],\n",
       "       [ 6,  7,  8,  9, 10],\n",
       "       [ 1,  2,  3,  4,  5]])"
      ]
     },
     "execution_count": 10,
     "metadata": {},
     "output_type": "execute_result"
    }
   ],
   "source": [
    "arr = np.array([[1,2,3,4,5],[6,7,8,9,10],[1,2,3,4,5]])\n",
    "arr"
   ]
  },
  {
   "cell_type": "markdown",
   "metadata": {},
   "source": [
    "Transposition d’une matrice"
   ]
  },
  {
   "cell_type": "code",
   "execution_count": 11,
   "metadata": {},
   "outputs": [
    {
     "data": {
      "text/plain": [
       "array([[ 1,  6,  1],\n",
       "       [ 2,  7,  2],\n",
       "       [ 3,  8,  3],\n",
       "       [ 4,  9,  4],\n",
       "       [ 5, 10,  5]])"
      ]
     },
     "execution_count": 11,
     "metadata": {},
     "output_type": "execute_result"
    }
   ],
   "source": [
    "arr.T"
   ]
  },
  {
   "cell_type": "markdown",
   "metadata": {},
   "source": [
    "matrice identité: une matrice carrée ne contenant que des 0 et des 1 sur la diagonale HG>BD"
   ]
  },
  {
   "cell_type": "code",
   "execution_count": 12,
   "metadata": {},
   "outputs": [
    {
     "data": {
      "text/plain": [
       "array([[1., 0., 0., 0., 0.],\n",
       "       [0., 1., 0., 0., 0.],\n",
       "       [0., 0., 1., 0., 0.],\n",
       "       [0., 0., 0., 1., 0.],\n",
       "       [0., 0., 0., 0., 1.]])"
      ]
     },
     "execution_count": 12,
     "metadata": {},
     "output_type": "execute_result"
    }
   ],
   "source": [
    "ident = np.identity(5)\n",
    "ident"
   ]
  },
  {
   "cell_type": "markdown",
   "metadata": {},
   "source": [
    "une matrice inverse de A, c’est la matrice B dont le produit matriciel np.dot(A,B) donne la matrice identité."
   ]
  },
  {
   "cell_type": "code",
   "execution_count": 22,
   "metadata": {},
   "outputs": [
    {
     "data": {
      "text/plain": [
       "array([[ 1,  2,  3,  4,  5],\n",
       "       [ 6,  7,  8,  9, 10],\n",
       "       [11, 12, 13, 14, 15],\n",
       "       [16, 17, 18, 19, 20],\n",
       "       [21, 22, 23, 24, 25]])"
      ]
     },
     "execution_count": 22,
     "metadata": {},
     "output_type": "execute_result"
    }
   ],
   "source": [
    "x = np.array([1,2,3,4,5])\n",
    "A = np.array([x,5+x,10+x,15+x,20+x])\n",
    "A"
   ]
  },
  {
   "cell_type": "code",
   "execution_count": 20,
   "metadata": {},
   "outputs": [
    {
     "name": "stdout",
     "output_type": "stream",
     "text": [
      "[[0.26015435 0.09849758 0.7939898  0.27379494 0.55053139]\n",
      " [0.65678512 0.81980636 0.26078845 0.8265733  0.90339899]\n",
      " [0.91767626 0.49983347 0.58223256 0.83450629 0.26895693]\n",
      " [0.70068171 0.87416841 0.67911659 0.76040273 0.61557085]\n",
      " [0.63071499 0.62160246 0.03529804 0.78177339 0.11805706]]\n",
      "[[-3.8907413   1.54918235  4.70748128  0.2038561  -5.49863047]\n",
      " [-1.64700977 -0.63188594 -0.79004115  2.88278809 -0.71573509]\n",
      " [ 1.269819   -1.365165   -0.62003857  1.00838319  0.67972086]\n",
      " [ 4.40188845 -0.96186096 -3.20269061 -2.36793828  6.47641131]\n",
      " [-0.07087402  1.82821995  0.40384653 -0.88877428 -1.47477381]]\n",
      "[[ 1. -0. -0.  0.  0.]\n",
      " [ 0.  1. -0. -0.  0.]\n",
      " [-0. -0.  1.  0. -0.]\n",
      " [-0.  0.  0.  1.  0.]\n",
      " [-0.  0. -0. -0.  1.]]\n"
     ]
    }
   ],
   "source": [
    "randmat = np.random.rand(5,5)\n",
    "print(randmat)\n",
    "B = np.linalg.inv(randmat)\n",
    "print(B)\n",
    "ident_presque = np.dot(randmat, B)\n",
    "print(np.round(ident_presque))"
   ]
  }
 ],
 "metadata": {
  "kernelspec": {
   "display_name": "base",
   "language": "python",
   "name": "python3"
  },
  "language_info": {
   "codemirror_mode": {
    "name": "ipython",
    "version": 3
   },
   "file_extension": ".py",
   "mimetype": "text/x-python",
   "name": "python",
   "nbconvert_exporter": "python",
   "pygments_lexer": "ipython3",
   "version": "3.11.4"
  },
  "orig_nbformat": 4
 },
 "nbformat": 4,
 "nbformat_minor": 2
}
