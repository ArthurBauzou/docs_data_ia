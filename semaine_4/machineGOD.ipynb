{
 "cells": [
  {
   "cell_type": "markdown",
   "metadata": {},
   "source": [
    "## Hail the Machine God\n",
    "\n",
    "### La regression\n",
    "C’est une méthode simple de machine learning dont toutes les autres s’inspirent plus ou moins.\\\n",
    "L’objectif de ces algorythmes est souvent soit la **Classification**, soit la **Prediction**.\\\n",
    "\n",
    "NLP = Natural Language Processing. Défi : vectoriser le texte, afin de faciliter sa copmpréhesion par une machine.\n"
   ]
  },
  {
   "cell_type": "markdown",
   "metadata": {},
   "source": [
    "## Regression Logistique\n",
    "\n",
    "C’est pour classer des elements dans différentes catégories\n",
    "\n",
    "Exemple : jeu d’images MNST, les images de 8 pixels par 8 pixels de nombres pour la reconnaissance autoimatique du code postal.\n",
    "\n",
    "Chaque pixel est une valeur de 0 à 255 (image en noir et blanc)\n",
    "\n",
    "Bon en fait on va utiliser le gradient boosting model\n"
   ]
  }
 ],
 "metadata": {
  "language_info": {
   "name": "python"
  },
  "orig_nbformat": 4
 },
 "nbformat": 4,
 "nbformat_minor": 2
}
