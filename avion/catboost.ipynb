{
 "cells": [
  {
   "cell_type": "code",
   "execution_count": null,
   "metadata": {},
   "outputs": [],
   "source": [
    "import pandas as pd\n",
    "\n",
    "# Charger les données\n",
    "df = pd.read_csv(\"Airline_Dataset.csv\")\n",
    "# conversion des noms de colonnes en minuscule\n",
    "df.columns = df.columns.str.lower()\n",
    "df.drop([\"departure delay in minutes\"], axis=1, inplace=True)\n",
    "df.drop([\"id\"], axis=1, inplace=True)\n",
    "# Créer une liste des colonnes catégorielles\n",
    "df.columns = df.columns.str.replace(' ', '_')\n",
    "df.columns = df.columns.str.replace('/', '_')\n",
    "# Filtrer les lignes avec des zéros dans les colonnes spécifiées\n",
    "cols_to_filter = ['departure_arrival_time_convenient', 'ease_of_online_booking', 'gate_location', 'food_and_drink', 'online_boarding', 'seat_comfort', 'inflight_entertainment', 'on-board_service', 'leg_room_service', 'baggage_handling', 'checkin_service', 'inflight_service', 'cleanliness']\n",
    "\n",
    "df = df.loc[(df[cols_to_filter] != 0).any(axis=1)]\n",
    "\n"
   ]
  },
  {
   "cell_type": "code",
   "execution_count": null,
   "metadata": {},
   "outputs": [],
   "source": [
    "categorical_columns = [\"gender\", \"customer_type\", \"type_of_travel\", \"class\"]\n",
    "# Créer des colonnes hot encoder pour chaque colonne catégorielle\n",
    "for column in categorical_columns:\n",
    "    df = pd.get_dummies(df, columns=[column],dtype=int)\n",
    "df.dropna(inplace=True)\n",
    "X = df.drop(columns=['satisfaction'])\n",
    "y = df['satisfaction']\n",
    "\n",
    "from sklearn.model_selection import train_test_split\n",
    "X_train, X_test, y_train, y_test = train_test_split(X, y, test_size=0.2, random_state=42)\n",
    "\n",
    "# Créer et entraîner un modèle CatBoost\n",
    "from catboost import CatBoostClassifier\n",
    "model = CatBoostClassifier(iterations=500, learning_rate=0.1, depth=6, loss_function='Logloss')\n",
    "model.fit(X_train, y_train)\n",
    "\n",
    "# Faire des prédictions\n",
    "y_pred = model.predict(X_test)\n",
    "\n",
    "from sklearn.metrics import accuracy_score, classification_report, confusion_matrix\n",
    "# Précision du modèle\n",
    "accuracy = accuracy_score(y_test, y_pred)\n",
    "print(\"Précision : {:.2f}%\".format(accuracy * 100))\n",
    "\n",
    "# Matrice de confusion\n",
    "conf_matrix = confusion_matrix(y_test, y_pred)\n",
    "print(\"Matrice de confusion :\\n\", conf_matrix)\n",
    "\n",
    "# Rapport de classification\n",
    "class_report = classification_report(y_test, y_pred)\n",
    "print(\"Rapport de classification :\\n\", class_report)"
   ]
  },
  {
   "cell_type": "code",
   "execution_count": null,
   "metadata": {},
   "outputs": [],
   "source": [
    "# Sauvegarde de l'entrainement\n",
    "model.save_model('modele_catboost.cbm')\n",
    "\n",
    "from catboost import CatBoostClassifier\n",
    "\n",
    "# Charger le modèle depuis le fichier\n",
    "model = CatBoostClassifier()\n",
    "model.load_model('modele_catboost.cbm')\n",
    "\n",
    "# transformation des données manuelles\n",
    "manual_data = {\n",
    "    'age': 50,\n",
    "    'flight_distance': 250,\n",
    "    'inflight_wifi_service': 0,\n",
    "    'departure_arrival_time_convenient': 0,\n",
    "    'ease_of_online_booking': 0,\n",
    "    'gate_location': 0,\n",
    "    'food_and_drink': 0,\n",
    "    'online_boarding': 0,\n",
    "    'seat_comfort': 0,\n",
    "    'inflight_entertainment': 0,\n",
    "    'on-board_service': 0,\n",
    "    'leg_room_service': 0,\n",
    "    'baggage_handling': 0,\n",
    "    'checkin_service': 0,\n",
    "    'inflight_service': 0,\n",
    "    'cleanliness': 0,\n",
    "    'arrival_delay_in_minutes': 120,\n",
    "    'gender_Female': 1,\n",
    "    'gender_Male': 0,\n",
    "    'customer_type_Loyal_Customer': 0,\n",
    "    'customer_type_disloyal_Customer': 1,\n",
    "    'type_of_travel_Business_travel': 0,\n",
    "    'type_of_travel_Personal_Travel': 1,\n",
    "    'class_Business': 0,\n",
    "    'class_Eco': 1,\n",
    "    'class_Eco_Plus': 0\n",
    "}\n",
    "manual_df = pd.DataFrame([manual_data])\n",
    "\n",
    "# Faire des prédictions\n",
    "y_manual_pred = model.predict(manual_df)"
   ]
  },
  {
   "cell_type": "code",
   "execution_count": null,
   "metadata": {},
   "outputs": [],
   "source": [
    "y_manual_pred"
   ]
  }
 ],
 "metadata": {
  "kernelspec": {
   "display_name": "base",
   "language": "python",
   "name": "python3"
  },
  "language_info": {
   "codemirror_mode": {
    "name": "ipython",
    "version": 3
   },
   "file_extension": ".py",
   "mimetype": "text/x-python",
   "name": "python",
   "nbconvert_exporter": "python",
   "pygments_lexer": "ipython3",
   "version": "3.11.5"
  }
 },
 "nbformat": 4,
 "nbformat_minor": 2
}
