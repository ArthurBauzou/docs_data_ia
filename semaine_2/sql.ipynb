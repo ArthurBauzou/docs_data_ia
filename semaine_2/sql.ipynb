{
 "cells": [
  {
   "cell_type": "markdown",
   "metadata": {},
   "source": [
    "# BASES DE DONNÉES\n",
    "\n",
    "Une base de donnée, c’est une collection de table visnat à stocker et préserver des données de manière sécurisée et optimisée.\n",
    "On essaye d’éviter les redondances au sein de ces données\n",
    "\n",
    "**SQL = Structured Query Language**\n",
    "\n",
    "### JOINTURES\n",
    "\n",
    "```\n",
    "SELECT prop_1, prop_2\n",
    "FROM table_1 AS A\n",
    "LEFT JOIN table_2 AS B\n",
    "WHERE A.prop_1 = B.prop_1\n",
    "```\n",
    "### CLEFS PRIMAIRES ET ETRANGERES\n",
    "\n",
    "On peut configurer une base SQL de façon à ce que les netrés possédant une clef étrangère soient liées à la présence de la clef primaire correspondante dans une autre table.\n",
    "\n",
    "### Requêtes Imbriquées\n",
    "\n",
    "Faire un SELECT dans un autre SELECT.\\\n",
    "En gros on fait un premier tableau dans lequel on va venir faire de nouvelles requêtes.\\\n",
    "Par exemple pour utliser une fonction MIN() et MAX() et faire un WHERE dessus, il sera plus facile de faire des SELECT simples sur la table avec MIN et MAX, puis aller chercher les resultats dans le WHERE d’un troisième select.\n",
    "\n",
    "```\n",
    "SELECT nom\n",
    "FROM jeux\n",
    "WHERE prix = (\n",
    "    SELECT MIN(prix)\n",
    "    FROM jeux\n",
    ") OR prix = (\n",
    "    SELECT MAX(prix)\n",
    "    FROM jeux\n",
    ")\n",
    "```"
   ]
  },
  {
   "cell_type": "code",
   "execution_count": null,
   "metadata": {},
   "outputs": [],
   "source": []
  }
 ],
 "metadata": {
  "language_info": {
   "name": "python"
  },
  "orig_nbformat": 4
 },
 "nbformat": 4,
 "nbformat_minor": 2
}
