{
 "cells": [
  {
   "cell_type": "markdown",
   "metadata": {},
   "source": [
    "# Corrélation\n",
    "\n",
    "## Définition\n",
    "C’est la mesure de la liaison entre deux valeurs, soit à quel point elles évoluent de concert. Une correlation est une relation linéaire entre deux valeurs.\n",
    "Sert à quantifier une dépendance entre deux variables.\n",
    "\n",
    "Une valeur de correlation se mesure généralement avec deux nombres : *r* et *p*\n",
    "\n",
    "*r, coeficient de correlation* : varie entre -1 et 1 et est le facteur muultiplicateur qui indique comme une valeur évolue par rapport à l’autre.\n",
    "*p, significativé statistique* : varie de 0 à 1 et indique la probabilité qu’il y ait une correlation statistique.\n",
    "\n",
    "\n",
    "## Calcul\n",
    "![image](images/formule.png)\n",
    "\n",
    "Ceci est le coeficient de Pearson. C’est le produit des covariances de chacune des variables divisé par le produit de leurs écarts-types.\n",
    "\n",
    "La covariance est une autre manière de mesurer la variation jointe de deux jeu de mesures. Cette valeur n’est pas forcement comprise entre 0 et 1\n",
    "\n",
    "## Utlisation dans une librairie python :\n",
    "\n",
    "Dans la librairie numpy, la fonction np.corrcoef() permet de claculer le coefficient de corrélation.\\\n",
    "C’est le calcul du coeficient de Pearson.\n",
    "\n",
    "Cette fonction renvoie une matrice symétrique avec les différents coefficients entre les différents jeux de données en entrée.\n",
    "\n",
    "## Utilité\n",
    "\n",
    "Il est très utile dans de nombreux domaines de pouvoir scientifiquement mesurer le degré de correlation de plusieures mesures./\n",
    "Per exemple, dans le cas qui nous intéresse du machine learning, nous nous servirons de cette mesure pour évaluer quelle donnée est liée à une autre et ainsi choisir d’entrainer nos modèles à prédire l’une en fonction de l’autre.\n"
   ]
  },
  {
   "cell_type": "code",
   "execution_count": 38,
   "metadata": {},
   "outputs": [
    {
     "data": {
      "text/plain": [
       "array([[1.        , 0.11762404],\n",
       "       [0.11762404, 1.        ]])"
      ]
     },
     "execution_count": 38,
     "metadata": {},
     "output_type": "execute_result"
    }
   ],
   "source": [
    "import numpy as np\n",
    "import matplotlib.pyplot as plt\n",
    "\n",
    "# Exercice : Mesurer la correlation entre deux sets aléatoires :\n",
    "\n",
    "test1 = np.arange(1,20)\n",
    "test2 = np.arange(20,39)\n",
    "\n",
    "data1 = np.random.randint(1,1000,100)\n",
    "data2 = np.random.randint(1,1000,100)\n",
    "dataset = np.array([data1,data2])\n",
    "\n",
    "np.corrcoef(dataset)"
   ]
  },
  {
   "cell_type": "code",
   "execution_count": 36,
   "metadata": {},
   "outputs": [
    {
     "data": {
      "text/plain": [
       "array([[ 1.00000000e+00, -8.47913257e-06],\n",
       "       [-8.47913257e-06,  1.00000000e+00]])"
      ]
     },
     "execution_count": 36,
     "metadata": {},
     "output_type": "execute_result"
    }
   ],
   "source": [
    "# entre la fonction sinus et cosinus\n",
    "\n",
    "x = np.arange(0,2*np.pi,1/50)\n",
    "np.corrcoef(np.cos(x), np.sin(x))"
   ]
  },
  {
   "cell_type": "code",
   "execution_count": 60,
   "metadata": {},
   "outputs": [
    {
     "data": {
      "image/png": "[encoded data removed]",
      "text/plain": [
       "<Figure size 640x480 with 1 Axes>"
      ]
     },
     "metadata": {},
     "output_type": "display_data"
    },
    {
     "name": "stdout",
     "output_type": "stream",
     "text": [
      "[[ 1.         -0.01486114]\n",
      " [-0.01486114  1.        ]]\n"
     ]
    }
   ],
   "source": [
    "# entre deux gaussiennes dont les moyennes et les écarts-types diffèrent\n",
    "\n",
    "gaus1 = np.random.normal(-20,5,100)\n",
    "gaus2 = np.random.normal(20,12,100)\n",
    "\n",
    "plt.hist(gaus1, color='orange')\n",
    "plt.hist(gaus2, color='blue')\n",
    "plt.show()\n",
    "\n",
    "print(np.corrcoef(gaus1, gaus2))"
   ]
  },
  {
   "cell_type": "markdown",
   "metadata": {},
   "source": [
    "## autocorrelation :\n",
    "\n",
    "c’est la somme des produits d’une courbe par la même courbe décalée. En gros c’est l’intersection des aires sous les courbes.\n",
    "\n",
    "![image](./images/autocorr_01.png)\n",
    "\n",
    "On peut ensuite le faire d’une fonction par rapport à une autre fonction. Et on obtiendra alors le degré de correlation et le décalage des deux fonctions. \n",
    "C’est ce qu’on fait pour digitaliser la voix dans les téléphones par exemple, ou pour compresser les mp3.\n"
   ]
  }
 ],
 "metadata": {
  "kernelspec": {
   "display_name": "base",
   "language": "python",
   "name": "python3"
  },
  "language_info": {
   "codemirror_mode": {
    "name": "ipython",
    "version": 3
   },
   "file_extension": ".py",
   "mimetype": "text/x-python",
   "name": "python",
   "nbconvert_exporter": "python",
   "pygments_lexer": "ipython3",
   "version": "3.11.4"
  },
  "orig_nbformat": 4
 },
 "nbformat": 4,
 "nbformat_minor": 2
}
